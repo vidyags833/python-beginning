{
 "cells": [
  {
   "cell_type": "code",
   "execution_count": null,
   "id": "3b5a149a-7c3c-4db4-8a14-531a725f6559",
   "metadata": {},
   "outputs": [],
   "source": [
    "x=int(input(\"enter the value of a\"))\n",
    "y=int(input(\"enter the value of b\"))\n",
    "add = x + y\n",
    "sub = x - y\n",
    "mul = x*y\n",
    "div = x/y\n",
    "print(\"the sum of two numis\",add)\n",
    "print(\"the sub of two numis\",sub)\n",
    "print(\"the mul of two numis\",mul)\n",
    "print(\"the div of two numis\",div)"
   ]
  }
 ],
 "metadata": {
  "kernelspec": {
   "display_name": "Python 3 (ipykernel)",
   "language": "python",
   "name": "python3"
  },
  "language_info": {
   "codemirror_mode": {
    "name": "ipython",
    "version": 3
   },
   "file_extension": ".py",
   "mimetype": "text/x-python",
   "name": "python",
   "nbconvert_exporter": "python",
   "pygments_lexer": "ipython3",
   "version": "3.11.7"
  }
 },
 "nbformat": 4,
 "nbformat_minor": 5
}
